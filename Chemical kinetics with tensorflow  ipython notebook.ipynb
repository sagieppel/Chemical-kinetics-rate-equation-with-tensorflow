{
 "cells": [
  {
   "cell_type": "markdown",
   "metadata": {
    "collapsed": true
   },
   "source": [
    "This code demonstrate the numerical modeling chemical rate equations using tensorflow. Tensorflow is a deep learining platform  with ability to preform vector/tensor operations in parallel and very efficienctly. This can usefull for chemical kinetics systems with large number of parallel reactions and chemical components such as chemical reaction networks. \n",
    "I will use standard notations for chemical kinetics described in:\n",
    "https://www.math.wisc.edu/~anderson/RecentTalks/2014/BIRS_TutorialPublic.pdf\n",
    "https://en.wikipedia.org/wiki/Chemical_reaction_network_theory\n",
    "For tensorflow toturial and installation see:http://learningtensorflow.com/\n",
    "\n",
    "Main components\n",
    "x: Conecnteration vector. x[i] is the concentration of the i component of the reaction in a given step.\n",
    "\n",
    "Yr: The reactants ratios for each component in each reaction in the system. Yr[i][j] is the equivalent/ratio of component i in the reactants of the j reaction.\n",
    "\n",
    "Yp: The product ratios for each component in each reaction in the system. Yp[i][j] is the equivalent/ratio of component i in the products of the j reaction.\n",
    "\n",
    "Example: For reaction 3A+2B->C+2D: Yr=[3,2,0,0] and Yp=[0,0,1,2]\n",
    "Example 2: For set of two reaction 2A->B and B->3C: Yr=[[2,0,0],[1,0,0]] and Yp=[[0,1,0],[0,0,3]]\n",
    "\n",
    "k: Rate consants vector. k[j] is the rate constant for reaction j.\n",
    "r: Reaction rate vector. r[j] is the rate of reaction j in current step. \n",
    "dt:Time step for simulation\n",
    "dx: Change in concentration after one step in the model. dx[i] change in concentration of component i in current simulation step. \n",
    "\n",
    "First step is to build tensorflow graph for single simulation step of the numeric equations with time step dt.\n",
    "The simulation step will be done in the function/method SimStep. "
   ]
  },
  {
   "cell_type": "code",
   "execution_count": 1,
   "metadata": {
    "collapsed": false
   },
   "outputs": [],
   "source": [
    "import tensorflow as tf\n",
    "import numpy as np\n",
    "# Build tensorflow graph of single simulation step return the new concentration x after simulation step\n",
    "def SimStep(x,In_Yr,In_Yp,In_k,In_dt): \n",
    "    Yr=tf.constant(In_Yr,tf.float32)# Reactant ratios for each reaction\n",
    "    Yp=tf.constant(In_Yp,tf.float32)# Product ratios for each reaction\n",
    "    k=tf.constant(In_k,tf.float32)# Reaction constants for each reaction\n",
    "    dt=tf.constant(In_dt,tf.float32) # time lapse for each simulation step\n",
    "    s1=tf.pow(x,Yr)\n",
    "    s2=tf.reduce_prod(s1,1)\n",
    "    r=k*s2#Reacion rates \n",
    "    s4=tf.scalar_mul(dt,r)\n",
    "    Yd=Yp-Yr # Change in concentrations attribute to each reaction\n",
    "    dxij=s4*tf.transpose(Yd)# concentration changes each reaction in this step***\n",
    "    dx=tf.reduce_sum(dxij,1) #sum of concentration changes from all reactions in this step***\n",
    "    xp=x+dx#New concentration after steps  \n",
    "    return(xp)"
   ]
  },
  {
   "cell_type": "markdown",
   "metadata": {},
   "source": [
    "Initiate graph to specicific set of chemical reactions\n",
    "The reaction that will be simulated are \n",
    "1) a+b->c\n",
    "2) c->2d\n",
    "The initiale concentration of a and b will be 0.4,0.3"
   ]
  },
  {
   "cell_type": "code",
   "execution_count": 2,
   "metadata": {
    "collapsed": true
   },
   "outputs": [],
   "source": [
    "x0=[0.4,0.3,0,0]# intial concentrations for reaction components. Initiale concentration of a and b will be 0.4,0.3\n",
    "x_names=['a','b','c','d']# names of components in the reaction associate with conecntration stored in x\n",
    "In_Yr=[[1,2,0,0],[0,0,1,0]]# Set reactant ratios for each reaction\n",
    "In_Yp=[[0,0,1,0],[0,0,0,1]]# Set product ratios for each reaction\n",
    "In_k=[8,4]# Set constant for each reaction\n",
    "In_dt=0.01# Set time lapse for each simulation step\n",
    "x=tf.placeholder(tf.float32) # conentrations for each component this is placeholder and not variable/constant since we need to update it each cycle\n",
    "xp=SimStep(x,In_Yr,In_Yp,In_k,In_dt) # Build tensorflow graph of single simulation step return the new concentration x after simulation step"
   ]
  },
  {
   "cell_type": "markdown",
   "metadata": {},
   "source": [
    "Run simulation and collect x (concentration) values in various of time steps"
   ]
  },
  {
   "cell_type": "code",
   "execution_count": 3,
   "metadata": {
    "collapsed": false
   },
   "outputs": [
    {
     "name": "stderr",
     "output_type": "stream",
     "text": [
      "/home/sagi/anaconda2/lib/python2.7/site-packages/ipykernel/__main__.py:5: VisibleDeprecationWarning: using a non-integer number instead of an integer will result in an error in the future\n",
      "/home/sagi/anaconda2/lib/python2.7/site-packages/ipykernel/__main__.py:6: VisibleDeprecationWarning: using a non-integer number instead of an integer will result in an error in the future\n",
      "/home/sagi/anaconda2/lib/python2.7/site-packages/ipykernel/__main__.py:13: VisibleDeprecationWarning: using a non-integer number instead of an integer will result in an error in the future\n",
      "/home/sagi/anaconda2/lib/python2.7/site-packages/ipykernel/__main__.py:14: VisibleDeprecationWarning: using a non-integer number instead of an integer will result in an error in the future\n"
     ]
    }
   ],
   "source": [
    "sess = tf.InteractiveSession() # start interactive session  the difference betwee this and regular session is that interactive session established itself as the defult session hence you dont need to specify the session every time you use eval\n",
    "sess.run(tf.initialize_all_variables())# initialize variables\n",
    "NumSteps=1000# number of simulation step\n",
    "Lapse=10# lapses between which data will be gather and saved for graph\n",
    "Tlapse=np.zeros(round(NumSteps/Lapse)+1,dtype=np.float32)# array containing the times in which the data were collected\n",
    "x_sample=np.zeros([round(NumSteps/Lapse)+1,len(x_names)],dtype=np.float32)# sample x (concentrations)  during simulation \n",
    "Tlapse[0]=0 # Set initial simulation time as zero\n",
    "x_sample[0]=x0 # record initial commponent concentration\n",
    "\n",
    "for i in range(NumSteps):# Run simulation for NumSteps\n",
    "    x0=sess.run(xp,feed_dict={x:x0})# run numeric simulation step\n",
    "    if (i%Lapse)==0:# collect the concentration in lapse of several simulation steps for graph (once every Lapse Steps)\n",
    "        x_sample[round(i/Lapse)+1]=x0\n",
    "        Tlapse[round(i/Lapse)+1]=i*In_dt\n",
    "        "
   ]
  },
  {
   "cell_type": "markdown",
   "metadata": {},
   "source": [
    "Plot concentration(x) graph  for the simulation using matplotlib"
   ]
  },
  {
   "cell_type": "code",
   "execution_count": 4,
   "metadata": {
    "collapsed": false
   },
   "outputs": [],
   "source": [
    "import matplotlib.pyplot as plt\n",
    "for c,label in zip(x_sample.swapaxes(0,1),x_names):\n",
    "    plt.plot(Tlapse,c,label=label)\n",
    "plt.legend(loc='upper left')\n",
    "plt.xlabel(\"Time\")\n",
    "plt.ylabel(\"concentration\")\n",
    "plt.show()\n",
    "plt.savefig(\"Concentration.png\")# Save graph as png image file\n"
   ]
  },
  {
   "cell_type": "code",
   "execution_count": null,
   "metadata": {
    "collapsed": false
   },
   "outputs": [],
   "source": [
    "\n"
   ]
  },
  {
   "cell_type": "code",
   "execution_count": null,
   "metadata": {
    "collapsed": false
   },
   "outputs": [],
   "source": []
  },
  {
   "cell_type": "code",
   "execution_count": null,
   "metadata": {
    "collapsed": true
   },
   "outputs": [],
   "source": []
  }
 ],
 "metadata": {
  "celltoolbar": "Raw Cell Format",
  "kernelspec": {
   "display_name": "Python 2",
   "language": "python",
   "name": "python2"
  },
  "language_info": {
   "codemirror_mode": {
    "name": "ipython",
    "version": 2
   },
   "file_extension": ".py",
   "mimetype": "text/x-python",
   "name": "python",
   "nbconvert_exporter": "python",
   "pygments_lexer": "ipython2",
   "version": "2.7.11"
  }
 },
 "nbformat": 4,
 "nbformat_minor": 0
}
